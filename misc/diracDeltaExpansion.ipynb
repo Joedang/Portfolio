{
 "cells": [
  {
   "cell_type": "markdown",
   "metadata": {},
   "source": [
    "# A semi-practical demonstration of expansions using Fourier and Legendre basis functions"
   ]
  },
  {
   "cell_type": "markdown",
   "metadata": {},
   "source": [
    "This is a demonstration of the expansion of the Dirac delta function. \n",
    "This is based off of example 5.1.7 in the 7th edition of  Arfken's __Mathematical Methods for Physicists__. \n",
    "It shows $\\delta(x-t)$ expanded in the complete orthonormal Hilbert space where the unit vectors are  \n",
    "$\\phi_n(x)=\\sqrt{2}\\sin(n \\pi x)$  \n",
    "and the inner product is  \n",
    "$< f | g > = \\int\\limits_0^1 f(x)g(x) dx$ .  \n",
    "In other words, this notebook shows the Fourier expansion of $\\delta(x-0.4)$.\n",
    "\n",
    "Arfken introduces the expansion of the delta function in a weird way. He states that  \n",
    "$\\delta(x-t) = \\sum \\phi_n^*(t) \\phi_n(x)$  \n",
    "and then shows that it does, in fact, match the definition of the delta function. \n",
    "\n",
    "I really don't like this, since it makes the expansion seem magical. I think it makes much more sense to just _find_ the expansion the way you would with any other function. \n",
    "\n",
    "So, in the $x$ domain:  \n",
    "$\\delta(x-t) = \\delta(x-t)$.\n",
    "\n",
    "We can find the $\\phi$ expansion of $\\delta$ just like we would with any function:  \n",
    "$\\delta(x-t) = \\sum_n \\left< \\phi_n(x) \\, | \\, \\delta(x-t) \\right> \\phi_n(x)$  \n",
    "\n",
    "We can then expand that bra-ket to figure out the form of $\\delta$ in the $\\phi$ space. If we're using the usual definition for the inner product:  \n",
    "$\\left< \\phi_n(x) \\, | \\, \\delta(x-t) \\right> = \\int \\phi_n^*(x) \\delta(x-t) \\, dx$  \n",
    "$ = \\phi_n^*(t)$\n",
    "\n",
    "So, the expansion of $\\delta(x-t)$ must be:  \n",
    "$\\delta(x-t) = \\sum \\phi_n^*(t)\\phi_n(x)$\n",
    "\n",
    "It's important to note that this depends on the \"usual\" definition of the inner product. If we had something _other than_ $\\left< f | g \\right> = \\int f(x) g(x) \\, dx$, then this would not be the correct expansion for $\\delta(x-t)$. "
   ]
  },
  {
   "cell_type": "markdown",
   "metadata": {
    "heading_collapsed": true
   },
   "source": [
    "#### Configuration and version"
   ]
  },
  {
   "cell_type": "markdown",
   "metadata": {
    "hidden": true
   },
   "source": [
    "Obviously you will need to install the `animation` package to run this locally.\n",
    "If the `png()` function works for you, then you don't need to install `Cairo`.\n",
    "(Just comment out the `library()` call and animation configuration.) "
   ]
  },
  {
   "cell_type": "code",
   "execution_count": 1,
   "metadata": {
    "collapsed": false,
    "hidden": true,
    "scrolled": false
   },
   "outputs": [
    {
     "data": {
      "text/html": [
       "'R version 3.2.5 (2016-04-14)'"
      ],
      "text/latex": [
       "'R version 3.2.5 (2016-04-14)'"
      ],
      "text/markdown": [
       "'R version 3.2.5 (2016-04-14)'"
      ],
      "text/plain": [
       "[1] \"R version 3.2.5 (2016-04-14)\""
      ]
     },
     "metadata": {},
     "output_type": "display_data"
    }
   ],
   "source": [
    "library('animation') # for making GIFs\n",
    "library('Cairo') # only needed on machines with broken PNG support\n",
    "ani.options(ani.dev= 'CairoPNG') # only needed on machines with broken PNG support\n",
    "R.Version()$vers"
   ]
  },
  {
   "cell_type": "markdown",
   "metadata": {},
   "source": [
    "### Define the basis functions and the expansion of $\\delta$.\n",
    "\n",
    "Arfken uses the Fourier expansion of $\\delta(x-0.4)$ on the interval $[0,1]$ as his example. This is that.\n",
    "\n",
    "... Well, this is that plus some other stuff too."
   ]
  },
  {
   "cell_type": "code",
   "execution_count": null,
   "metadata": {
    "collapsed": true
   },
   "outputs": [],
   "source": [
    "# Given a number of terms and value for t, return a single-input expansion for delta.\n",
    "# Have it feed in x values one at a time, to avoid weirdness between x and n in sum().\n",
    "mkf.delta <- function(N=50, t=0.4, n=1:N) \n",
    "    function(x) sapply(x, function(x) sum(phi(t,n)*phi(x,n))) "
   ]
  },
  {
   "cell_type": "markdown",
   "metadata": {
    "heading_collapsed": true
   },
   "source": [
    "#### Fourier basis functions"
   ]
  },
  {
   "cell_type": "code",
   "execution_count": 2,
   "metadata": {
    "collapsed": false,
    "hidden": true
   },
   "outputs": [],
   "source": [
    "fourier <- function(x, n) sqrt(2)*sin(n*pi*x)"
   ]
  },
  {
   "cell_type": "markdown",
   "metadata": {
    "heading_collapsed": true
   },
   "source": [
    "#### Legendre basis functions\n",
    "Lol, compare this to the one-liner for Fourier."
   ]
  },
  {
   "cell_type": "code",
   "execution_count": 15,
   "metadata": {
    "collapsed": false,
    "hidden": true
   },
   "outputs": [],
   "source": [
    "sumover <- function(ind, FUN) \n",
    "{\n",
    "    value <- 0\n",
    "    for (i in ind)\n",
    "        value <- value+FUN(i)\n",
    "    return(value)\n",
    "}\n",
    "legendre <- function(x,n) sapply(n, function(n) \n",
    "    2^n*sumover(0:n, function(k) x^k*choose(n,k)*choose((n+k-1)/2,n)))\n",
    "# You can check that legendre() works by trying some values of n.\n",
    "# It should always be inside the range [-1,1] in both x and y, and even/odd \n",
    "# values of n should correspond to even/odd functions.\n",
    "# plot(function(x) legendre(x,7), xlim=c(-1,1))"
   ]
  },
  {
   "cell_type": "markdown",
   "metadata": {},
   "source": [
    "### Make a GIFs of the better approximations as more terms are brought in."
   ]
  },
  {
   "cell_type": "markdown",
   "metadata": {
    "heading_collapsed": true
   },
   "source": [
    "#### define how to make the GIFs"
   ]
  },
  {
   "cell_type": "code",
   "execution_count": 3,
   "metadata": {
    "collapsed": false,
    "hidden": true,
    "scrolled": true
   },
   "outputs": [],
   "source": [
    "# 0.05 seconds between frames of the GIF:\n",
    "ani.options(interval=0.05)\n",
    "mkgif <- function() {\n",
    "    saveGIF(movie.name = gifname, expr = {\n",
    "        I.hist <- NULL # to show how the approximation improves\n",
    "        # upper/lower split plot:\n",
    "        layout(matrix(c(1,2,3), nrow=3), heights = c(3,1,1))\n",
    "        par.old <- par()\n",
    "        for (i in 1:length(N.vals))\n",
    "        {\n",
    "            par(mar=c(5,5,4,2))\n",
    "            plot(\n",
    "                mkf.delta(n=N.vals[1:i]), type='l', n= 1e3,\n",
    "                # main=expression(delta == sum(paste(phi[n],\"*\")(t)*phi[n](x)))\n",
    "                main= plottitle,\n",
    "                ylab= expression(delta(x-t))\n",
    "                )\n",
    "            abline(h=0, v=0.4, col='green')\n",
    "            legend('topright', legend=paste('N=', i))\n",
    "            I= integrate(f = mkf.delta(n=N.vals[1:i]), lower = 0, upper = 1, subdivisions=1e3)\n",
    "    # \t\tcat(I$value, '\\n')\n",
    "            I.hist <- c(I.hist, I$value)\n",
    "            par(mar=c(0,5,0,2))\n",
    "            plot(\n",
    "                I.hist, \n",
    "                xlab='N', ylab=expression(integral(delta(x-t))), \n",
    "                type='l', xlim=c(1,length(N.vals)), \n",
    "                xaxt='n'\n",
    "            )\n",
    "            abline(h=1, col='green')\n",
    "            \n",
    "            par(mar=c(5,5,0,2))\n",
    "            plot(\n",
    "                N.vals[1:i], \n",
    "                xlim=c(1,length(N.vals)), ylim=range(N.vals),\n",
    "                ylab= 'term'\n",
    "            )\n",
    "        }\n",
    "        # return plotting to normal:\n",
    "        layout(1)\n",
    "        par(par.old)\n",
    "    })\n",
    "}"
   ]
  },
  {
   "cell_type": "markdown",
   "metadata": {
    "heading_collapsed": true
   },
   "source": [
    "#### How it's usually shown\n",
    "\n",
    "Basically, as you use more and more terms to approximate $\\delta$, the approximation looks better and better. You can also take the integral of the approximation to gauge how close it is. \n",
    "\n",
    "Warning: These plots may take a long time to render, if you decide to run this code yourself!"
   ]
  },
  {
   "cell_type": "code",
   "execution_count": 4,
   "metadata": {
    "collapsed": false,
    "hidden": true
   },
   "outputs": [
    {
     "name": "stderr",
     "output_type": "stream",
     "text": [
      "Warning message in par(par.old):\n",
      "\"graphical parameter \"cin\" cannot be set\"Warning message in par(par.old):\n",
      "\"graphical parameter \"cra\" cannot be set\"Warning message in par(par.old):\n",
      "\"graphical parameter \"csi\" cannot be set\"Warning message in par(par.old):\n",
      "\"graphical parameter \"cxy\" cannot be set\"Warning message in par(par.old):\n",
      "\"graphical parameter \"din\" cannot be set\"Warning message in par(par.old):\n",
      "\"graphical parameter \"page\" cannot be set\"Executing: \n",
      "convert -loop 0 -delay 5 Rplot1.png Rplot2.png Rplot3.png Rplot4.png\n",
      "    Rplot5.png Rplot6.png Rplot7.png Rplot8.png Rplot9.png Rplot10.png\n",
      "    Rplot11.png Rplot12.png Rplot13.png Rplot14.png Rplot15.png\n",
      "    Rplot16.png Rplot17.png Rplot18.png Rplot19.png Rplot20.png\n",
      "    Rplot21.png Rplot22.png Rplot23.png Rplot24.png Rplot25.png\n",
      "    Rplot26.png Rplot27.png Rplot28.png Rplot29.png Rplot30.png\n",
      "    Rplot31.png Rplot32.png Rplot33.png Rplot34.png Rplot35.png\n",
      "    Rplot36.png Rplot37.png Rplot38.png Rplot39.png Rplot40.png\n",
      "    Rplot41.png Rplot42.png Rplot43.png Rplot44.png Rplot45.png\n",
      "    Rplot46.png Rplot47.png Rplot48.png Rplot49.png Rplot50.png\n",
      "    Rplot51.png Rplot52.png Rplot53.png Rplot54.png Rplot55.png\n",
      "    Rplot56.png Rplot57.png Rplot58.png Rplot59.png Rplot60.png\n",
      "    Rplot61.png Rplot62.png Rplot63.png Rplot64.png Rplot65.png\n",
      "    Rplot66.png Rplot67.png Rplot68.png Rplot69.png Rplot70.png\n",
      "    Rplot71.png Rplot72.png Rplot73.png Rplot74.png Rplot75.png\n",
      "    Rplot76.png Rplot77.png Rplot78.png Rplot79.png Rplot80.png\n",
      "    Rplot81.png Rplot82.png Rplot83.png Rplot84.png Rplot85.png\n",
      "    Rplot86.png Rplot87.png Rplot88.png Rplot89.png Rplot90.png\n",
      "    Rplot91.png Rplot92.png Rplot93.png Rplot94.png Rplot95.png\n",
      "    Rplot96.png Rplot97.png Rplot98.png Rplot99.png Rplot100.png\n",
      "    Rplot101.png Rplot102.png Rplot103.png Rplot104.png Rplot105.png\n",
      "    Rplot106.png Rplot107.png Rplot108.png Rplot109.png Rplot110.png\n",
      "    Rplot111.png Rplot112.png Rplot113.png Rplot114.png Rplot115.png\n",
      "    Rplot116.png Rplot117.png Rplot118.png Rplot119.png Rplot120.png\n",
      "    Rplot121.png Rplot122.png Rplot123.png Rplot124.png Rplot125.png\n",
      "    Rplot126.png Rplot127.png Rplot128.png Rplot129.png Rplot130.png\n",
      "    Rplot131.png Rplot132.png Rplot133.png Rplot134.png Rplot135.png\n",
      "    Rplot136.png Rplot137.png Rplot138.png Rplot139.png Rplot140.png\n",
      "    Rplot141.png Rplot142.png Rplot143.png Rplot144.png Rplot145.png\n",
      "    Rplot146.png Rplot147.png Rplot148.png Rplot149.png Rplot150.png\n",
      "    Rplot151.png Rplot152.png Rplot153.png Rplot154.png Rplot155.png\n",
      "    Rplot156.png Rplot157.png Rplot158.png Rplot159.png Rplot160.png\n",
      "    Rplot161.png Rplot162.png Rplot163.png Rplot164.png Rplot165.png\n",
      "    Rplot166.png Rplot167.png Rplot168.png Rplot169.png Rplot170.png\n",
      "    Rplot171.png Rplot172.png Rplot173.png Rplot174.png Rplot175.png\n",
      "    Rplot176.png Rplot177.png Rplot178.png Rplot179.png Rplot180.png\n",
      "    Rplot181.png Rplot182.png Rplot183.png Rplot184.png Rplot185.png\n",
      "    Rplot186.png Rplot187.png Rplot188.png Rplot189.png Rplot190.png\n",
      "    Rplot191.png Rplot192.png Rplot193.png Rplot194.png Rplot195.png\n",
      "    Rplot196.png Rplot197.png Rplot198.png Rplot199.png Rplot200.png\n",
      "    'diracDeltaExpansion.gif'\n",
      "Output at: diracDeltaExpansion.gif\n"
     ]
    },
    {
     "data": {
      "text/html": [
       "TRUE"
      ],
      "text/latex": [
       "TRUE"
      ],
      "text/markdown": [
       "TRUE"
      ],
      "text/plain": [
       "[1] TRUE"
      ]
     },
     "metadata": {},
     "output_type": "display_data"
    }
   ],
   "source": [
    "phi <- fourier\n",
    "gifname <- 'diracDeltaExpansion.gif'\n",
    "plottitle <- 'low-frequency terms first'\n",
    "N.vals <- 1:200 # range of expansion sizes to show\n",
    "mkgif()"
   ]
  },
  {
   "cell_type": "markdown",
   "metadata": {
    "hidden": true
   },
   "source": [
    "![](diracDeltaExpansion.gif)"
   ]
  },
  {
   "cell_type": "markdown",
   "metadata": {
    "heading_collapsed": true
   },
   "source": [
    "#### Adding the basis functions in reverse order\n",
    "\n",
    "Okay, so that's pretty neat. It also looks how you'd expect if you've ever been shown a plot of a Fourier approximation. It more or less has the shape of the function, with some high-frequency junk thrown in, the sharp edges are extra wiggly, and adding more high-frequency terms get you closer to the function. \n",
    "\n",
    "But, what if we don't start with the low-frequency terms and then add the high-frequency terms? What if we start with the higher terms and then add the low ones?\n",
    "\n",
    "This code approximates $\\delta(x-0.4)$, but adds in the terms in reverse order, relative to the last plot. So, it starts out with $\\sqrt{2}\\sin(200 \\pi x)$ and then becomes $\\sqrt{2}\\sin(200 \\pi x) + \\sqrt{2}\\sin(199 \\pi x)$ and so on. "
   ]
  },
  {
   "cell_type": "code",
   "execution_count": 5,
   "metadata": {
    "collapsed": false,
    "hidden": true
   },
   "outputs": [
    {
     "name": "stderr",
     "output_type": "stream",
     "text": [
      "Warning message in par(par.old):\n",
      "\"graphical parameter \"cin\" cannot be set\"Warning message in par(par.old):\n",
      "\"graphical parameter \"cra\" cannot be set\"Warning message in par(par.old):\n",
      "\"graphical parameter \"csi\" cannot be set\"Warning message in par(par.old):\n",
      "\"graphical parameter \"cxy\" cannot be set\"Warning message in par(par.old):\n",
      "\"graphical parameter \"din\" cannot be set\"Warning message in par(par.old):\n",
      "\"graphical parameter \"page\" cannot be set\"Executing: \n",
      "convert -loop 0 -delay 5 Rplot1.png Rplot2.png Rplot3.png Rplot4.png\n",
      "    Rplot5.png Rplot6.png Rplot7.png Rplot8.png Rplot9.png Rplot10.png\n",
      "    Rplot11.png Rplot12.png Rplot13.png Rplot14.png Rplot15.png\n",
      "    Rplot16.png Rplot17.png Rplot18.png Rplot19.png Rplot20.png\n",
      "    Rplot21.png Rplot22.png Rplot23.png Rplot24.png Rplot25.png\n",
      "    Rplot26.png Rplot27.png Rplot28.png Rplot29.png Rplot30.png\n",
      "    Rplot31.png Rplot32.png Rplot33.png Rplot34.png Rplot35.png\n",
      "    Rplot36.png Rplot37.png Rplot38.png Rplot39.png Rplot40.png\n",
      "    Rplot41.png Rplot42.png Rplot43.png Rplot44.png Rplot45.png\n",
      "    Rplot46.png Rplot47.png Rplot48.png Rplot49.png Rplot50.png\n",
      "    Rplot51.png Rplot52.png Rplot53.png Rplot54.png Rplot55.png\n",
      "    Rplot56.png Rplot57.png Rplot58.png Rplot59.png Rplot60.png\n",
      "    Rplot61.png Rplot62.png Rplot63.png Rplot64.png Rplot65.png\n",
      "    Rplot66.png Rplot67.png Rplot68.png Rplot69.png Rplot70.png\n",
      "    Rplot71.png Rplot72.png Rplot73.png Rplot74.png Rplot75.png\n",
      "    Rplot76.png Rplot77.png Rplot78.png Rplot79.png Rplot80.png\n",
      "    Rplot81.png Rplot82.png Rplot83.png Rplot84.png Rplot85.png\n",
      "    Rplot86.png Rplot87.png Rplot88.png Rplot89.png Rplot90.png\n",
      "    Rplot91.png Rplot92.png Rplot93.png Rplot94.png Rplot95.png\n",
      "    Rplot96.png Rplot97.png Rplot98.png Rplot99.png Rplot100.png\n",
      "    Rplot101.png Rplot102.png Rplot103.png Rplot104.png Rplot105.png\n",
      "    Rplot106.png Rplot107.png Rplot108.png Rplot109.png Rplot110.png\n",
      "    Rplot111.png Rplot112.png Rplot113.png Rplot114.png Rplot115.png\n",
      "    Rplot116.png Rplot117.png Rplot118.png Rplot119.png Rplot120.png\n",
      "    Rplot121.png Rplot122.png Rplot123.png Rplot124.png Rplot125.png\n",
      "    Rplot126.png Rplot127.png Rplot128.png Rplot129.png Rplot130.png\n",
      "    Rplot131.png Rplot132.png Rplot133.png Rplot134.png Rplot135.png\n",
      "    Rplot136.png Rplot137.png Rplot138.png Rplot139.png Rplot140.png\n",
      "    Rplot141.png Rplot142.png Rplot143.png Rplot144.png Rplot145.png\n",
      "    Rplot146.png Rplot147.png Rplot148.png Rplot149.png Rplot150.png\n",
      "    Rplot151.png Rplot152.png Rplot153.png Rplot154.png Rplot155.png\n",
      "    Rplot156.png Rplot157.png Rplot158.png Rplot159.png Rplot160.png\n",
      "    Rplot161.png Rplot162.png Rplot163.png Rplot164.png Rplot165.png\n",
      "    Rplot166.png Rplot167.png Rplot168.png Rplot169.png Rplot170.png\n",
      "    Rplot171.png Rplot172.png Rplot173.png Rplot174.png Rplot175.png\n",
      "    Rplot176.png Rplot177.png Rplot178.png Rplot179.png Rplot180.png\n",
      "    Rplot181.png Rplot182.png Rplot183.png Rplot184.png Rplot185.png\n",
      "    Rplot186.png Rplot187.png Rplot188.png Rplot189.png Rplot190.png\n",
      "    Rplot191.png Rplot192.png Rplot193.png Rplot194.png Rplot195.png\n",
      "    Rplot196.png Rplot197.png Rplot198.png Rplot199.png Rplot200.png\n",
      "    'diracDeltaReverseExpansion.gif'\n",
      "Output at: diracDeltaReverseExpansion.gif\n"
     ]
    },
    {
     "data": {
      "text/html": [
       "TRUE"
      ],
      "text/latex": [
       "TRUE"
      ],
      "text/markdown": [
       "TRUE"
      ],
      "text/plain": [
       "[1] TRUE"
      ]
     },
     "metadata": {},
     "output_type": "display_data"
    }
   ],
   "source": [
    "gifname <- 'diracDeltaReverseExpansion.gif'\n",
    "plottitle <- 'high-frequency terms first'\n",
    "N.vals <- rev(N.vals)\n",
    "mkgif()"
   ]
  },
  {
   "cell_type": "markdown",
   "metadata": {
    "hidden": true
   },
   "source": [
    "![](diracDeltaReverseExpansion.gif)"
   ]
  },
  {
   "cell_type": "markdown",
   "metadata": {
    "hidden": true
   },
   "source": [
    "It's kind of neat how the expected integral ($\\int\\delta(x-t)\\,dx=1$) doesn't really approximate the expected value until the last term is added. It makes sense, since the last term contributes the most to the integral. It's also kind of neat how the terms really only flip the integral around zero until the last term. "
   ]
  },
  {
   "cell_type": "markdown",
   "metadata": {
    "heading_collapsed": true
   },
   "source": [
    "#### Add terms randomly\n",
    "\n",
    "This one just goes crazy and shuffles the order in which the terms 1 through 200 are used. "
   ]
  },
  {
   "cell_type": "code",
   "execution_count": 6,
   "metadata": {
    "collapsed": false,
    "hidden": true
   },
   "outputs": [
    {
     "name": "stderr",
     "output_type": "stream",
     "text": [
      "Warning message in plot.window(...):\n",
      "\"relative range of values =  33 * EPS, is small (axis 2)\"Warning message in par(par.old):\n",
      "\"graphical parameter \"cin\" cannot be set\"Warning message in par(par.old):\n",
      "\"graphical parameter \"cra\" cannot be set\"Warning message in par(par.old):\n",
      "\"graphical parameter \"csi\" cannot be set\"Warning message in par(par.old):\n",
      "\"graphical parameter \"cxy\" cannot be set\"Warning message in par(par.old):\n",
      "\"graphical parameter \"din\" cannot be set\"Warning message in par(par.old):\n",
      "\"graphical parameter \"page\" cannot be set\"Executing: \n",
      "convert -loop 0 -delay 5 Rplot1.png Rplot2.png Rplot3.png Rplot4.png\n",
      "    Rplot5.png Rplot6.png Rplot7.png Rplot8.png Rplot9.png Rplot10.png\n",
      "    Rplot11.png Rplot12.png Rplot13.png Rplot14.png Rplot15.png\n",
      "    Rplot16.png Rplot17.png Rplot18.png Rplot19.png Rplot20.png\n",
      "    Rplot21.png Rplot22.png Rplot23.png Rplot24.png Rplot25.png\n",
      "    Rplot26.png Rplot27.png Rplot28.png Rplot29.png Rplot30.png\n",
      "    Rplot31.png Rplot32.png Rplot33.png Rplot34.png Rplot35.png\n",
      "    Rplot36.png Rplot37.png Rplot38.png Rplot39.png Rplot40.png\n",
      "    Rplot41.png Rplot42.png Rplot43.png Rplot44.png Rplot45.png\n",
      "    Rplot46.png Rplot47.png Rplot48.png Rplot49.png Rplot50.png\n",
      "    Rplot51.png Rplot52.png Rplot53.png Rplot54.png Rplot55.png\n",
      "    Rplot56.png Rplot57.png Rplot58.png Rplot59.png Rplot60.png\n",
      "    Rplot61.png Rplot62.png Rplot63.png Rplot64.png Rplot65.png\n",
      "    Rplot66.png Rplot67.png Rplot68.png Rplot69.png Rplot70.png\n",
      "    Rplot71.png Rplot72.png Rplot73.png Rplot74.png Rplot75.png\n",
      "    Rplot76.png Rplot77.png Rplot78.png Rplot79.png Rplot80.png\n",
      "    Rplot81.png Rplot82.png Rplot83.png Rplot84.png Rplot85.png\n",
      "    Rplot86.png Rplot87.png Rplot88.png Rplot89.png Rplot90.png\n",
      "    Rplot91.png Rplot92.png Rplot93.png Rplot94.png Rplot95.png\n",
      "    Rplot96.png Rplot97.png Rplot98.png Rplot99.png Rplot100.png\n",
      "    Rplot101.png Rplot102.png Rplot103.png Rplot104.png Rplot105.png\n",
      "    Rplot106.png Rplot107.png Rplot108.png Rplot109.png Rplot110.png\n",
      "    Rplot111.png Rplot112.png Rplot113.png Rplot114.png Rplot115.png\n",
      "    Rplot116.png Rplot117.png Rplot118.png Rplot119.png Rplot120.png\n",
      "    Rplot121.png Rplot122.png Rplot123.png Rplot124.png Rplot125.png\n",
      "    Rplot126.png Rplot127.png Rplot128.png Rplot129.png Rplot130.png\n",
      "    Rplot131.png Rplot132.png Rplot133.png Rplot134.png Rplot135.png\n",
      "    Rplot136.png Rplot137.png Rplot138.png Rplot139.png Rplot140.png\n",
      "    Rplot141.png Rplot142.png Rplot143.png Rplot144.png Rplot145.png\n",
      "    Rplot146.png Rplot147.png Rplot148.png Rplot149.png Rplot150.png\n",
      "    Rplot151.png Rplot152.png Rplot153.png Rplot154.png Rplot155.png\n",
      "    Rplot156.png Rplot157.png Rplot158.png Rplot159.png Rplot160.png\n",
      "    Rplot161.png Rplot162.png Rplot163.png Rplot164.png Rplot165.png\n",
      "    Rplot166.png Rplot167.png Rplot168.png Rplot169.png Rplot170.png\n",
      "    Rplot171.png Rplot172.png Rplot173.png Rplot174.png Rplot175.png\n",
      "    Rplot176.png Rplot177.png Rplot178.png Rplot179.png Rplot180.png\n",
      "    Rplot181.png Rplot182.png Rplot183.png Rplot184.png Rplot185.png\n",
      "    Rplot186.png Rplot187.png Rplot188.png Rplot189.png Rplot190.png\n",
      "    Rplot191.png Rplot192.png Rplot193.png Rplot194.png Rplot195.png\n",
      "    Rplot196.png Rplot197.png Rplot198.png Rplot199.png Rplot200.png\n",
      "    'diracDeltaRandomExpansion.gif'\n",
      "Output at: diracDeltaRandomExpansion.gif\n"
     ]
    },
    {
     "data": {
      "text/html": [
       "TRUE"
      ],
      "text/latex": [
       "TRUE"
      ],
      "text/markdown": [
       "TRUE"
      ],
      "text/plain": [
       "[1] TRUE"
      ]
     },
     "metadata": {},
     "output_type": "display_data"
    }
   ],
   "source": [
    "gifname <- 'diracDeltaRandomExpansion.gif'\n",
    "plottitle <- 'randomly add terms from terms 1 through 200'\n",
    "N.vals <- sample(N.vals)\n",
    "mkgif()"
   ]
  },
  {
   "cell_type": "markdown",
   "metadata": {
    "hidden": true
   },
   "source": [
    "![](diracDeltaRandomExpansion.gif)"
   ]
  },
  {
   "cell_type": "markdown",
   "metadata": {
    "heading_collapsed": true
   },
   "source": [
    "#### Even terms only\n",
    "\n",
    "It might also be interesting to plot only the even or odd terms, since only the odd terms contribute to the integral."
   ]
  },
  {
   "cell_type": "code",
   "execution_count": 7,
   "metadata": {
    "collapsed": false,
    "hidden": true,
    "scrolled": true
   },
   "outputs": [
    {
     "name": "stderr",
     "output_type": "stream",
     "text": [
      "Warning message in par(par.old):\n",
      "\"graphical parameter \"cin\" cannot be set\"Warning message in par(par.old):\n",
      "\"graphical parameter \"cra\" cannot be set\"Warning message in par(par.old):\n",
      "\"graphical parameter \"csi\" cannot be set\"Warning message in par(par.old):\n",
      "\"graphical parameter \"cxy\" cannot be set\"Warning message in par(par.old):\n",
      "\"graphical parameter \"din\" cannot be set\"Warning message in par(par.old):\n",
      "\"graphical parameter \"page\" cannot be set\"Executing: \n",
      "convert -loop 0 -delay 5 Rplot1.png Rplot2.png Rplot3.png Rplot4.png\n",
      "    Rplot5.png Rplot6.png Rplot7.png Rplot8.png Rplot9.png Rplot10.png\n",
      "    Rplot11.png Rplot12.png Rplot13.png Rplot14.png Rplot15.png\n",
      "    Rplot16.png Rplot17.png Rplot18.png Rplot19.png Rplot20.png\n",
      "    Rplot21.png Rplot22.png Rplot23.png Rplot24.png Rplot25.png\n",
      "    Rplot26.png Rplot27.png Rplot28.png Rplot29.png Rplot30.png\n",
      "    Rplot31.png Rplot32.png Rplot33.png Rplot34.png Rplot35.png\n",
      "    Rplot36.png Rplot37.png Rplot38.png Rplot39.png Rplot40.png\n",
      "    Rplot41.png Rplot42.png Rplot43.png Rplot44.png Rplot45.png\n",
      "    Rplot46.png Rplot47.png Rplot48.png Rplot49.png Rplot50.png\n",
      "    Rplot51.png Rplot52.png Rplot53.png Rplot54.png Rplot55.png\n",
      "    Rplot56.png Rplot57.png Rplot58.png Rplot59.png Rplot60.png\n",
      "    Rplot61.png Rplot62.png Rplot63.png Rplot64.png Rplot65.png\n",
      "    Rplot66.png Rplot67.png Rplot68.png Rplot69.png Rplot70.png\n",
      "    Rplot71.png Rplot72.png Rplot73.png Rplot74.png Rplot75.png\n",
      "    Rplot76.png Rplot77.png Rplot78.png Rplot79.png Rplot80.png\n",
      "    Rplot81.png Rplot82.png Rplot83.png Rplot84.png Rplot85.png\n",
      "    Rplot86.png Rplot87.png Rplot88.png Rplot89.png Rplot90.png\n",
      "    Rplot91.png Rplot92.png Rplot93.png Rplot94.png Rplot95.png\n",
      "    Rplot96.png Rplot97.png Rplot98.png Rplot99.png Rplot100.png\n",
      "    'diracDeltaEvenExpansion.gif'\n",
      "Output at: diracDeltaEvenExpansion.gif\n"
     ]
    },
    {
     "data": {
      "text/html": [
       "TRUE"
      ],
      "text/latex": [
       "TRUE"
      ],
      "text/markdown": [
       "TRUE"
      ],
      "text/plain": [
       "[1] TRUE"
      ]
     },
     "metadata": {},
     "output_type": "display_data"
    }
   ],
   "source": [
    "gifname <- 'diracDeltaEvenExpansion.gif'\n",
    "plottitle <- 'even terms only'\n",
    "N.vals <- (1:200)[2*1:100]\n",
    "mkgif()"
   ]
  },
  {
   "cell_type": "markdown",
   "metadata": {
    "hidden": true
   },
   "source": [
    "![](diracDeltaEvenExpansion.gif)"
   ]
  },
  {
   "cell_type": "markdown",
   "metadata": {
    "hidden": true
   },
   "source": [
    "I suppose it makes sense that there would be an oddly reflected peak on the other side of $x=0.5$, since all the even terms have odd symmetry about that point. \n",
    "And of course, the value of the integral just seems to be rounding error, since the even terms don't contribute anything to the integral.\n",
    "\n",
    "I'm not sure what the deal is with the oscillations between the peaks though."
   ]
  },
  {
   "cell_type": "markdown",
   "metadata": {
    "heading_collapsed": true
   },
   "source": [
    "#### Odd terms only"
   ]
  },
  {
   "cell_type": "code",
   "execution_count": 8,
   "metadata": {
    "collapsed": false,
    "hidden": true
   },
   "outputs": [
    {
     "name": "stderr",
     "output_type": "stream",
     "text": [
      "Warning message in par(par.old):\n",
      "\"graphical parameter \"cin\" cannot be set\"Warning message in par(par.old):\n",
      "\"graphical parameter \"cra\" cannot be set\"Warning message in par(par.old):\n",
      "\"graphical parameter \"csi\" cannot be set\"Warning message in par(par.old):\n",
      "\"graphical parameter \"cxy\" cannot be set\"Warning message in par(par.old):\n",
      "\"graphical parameter \"din\" cannot be set\"Warning message in par(par.old):\n",
      "\"graphical parameter \"page\" cannot be set\"Executing: \n",
      "convert -loop 0 -delay 5 Rplot1.png Rplot2.png Rplot3.png Rplot4.png\n",
      "    Rplot5.png Rplot6.png Rplot7.png Rplot8.png Rplot9.png Rplot10.png\n",
      "    Rplot11.png Rplot12.png Rplot13.png Rplot14.png Rplot15.png\n",
      "    Rplot16.png Rplot17.png Rplot18.png Rplot19.png Rplot20.png\n",
      "    Rplot21.png Rplot22.png Rplot23.png Rplot24.png Rplot25.png\n",
      "    Rplot26.png Rplot27.png Rplot28.png Rplot29.png Rplot30.png\n",
      "    Rplot31.png Rplot32.png Rplot33.png Rplot34.png Rplot35.png\n",
      "    Rplot36.png Rplot37.png Rplot38.png Rplot39.png Rplot40.png\n",
      "    Rplot41.png Rplot42.png Rplot43.png Rplot44.png Rplot45.png\n",
      "    Rplot46.png Rplot47.png Rplot48.png Rplot49.png Rplot50.png\n",
      "    Rplot51.png Rplot52.png Rplot53.png Rplot54.png Rplot55.png\n",
      "    Rplot56.png Rplot57.png Rplot58.png Rplot59.png Rplot60.png\n",
      "    Rplot61.png Rplot62.png Rplot63.png Rplot64.png Rplot65.png\n",
      "    Rplot66.png Rplot67.png Rplot68.png Rplot69.png Rplot70.png\n",
      "    Rplot71.png Rplot72.png Rplot73.png Rplot74.png Rplot75.png\n",
      "    Rplot76.png Rplot77.png Rplot78.png Rplot79.png Rplot80.png\n",
      "    Rplot81.png Rplot82.png Rplot83.png Rplot84.png Rplot85.png\n",
      "    Rplot86.png Rplot87.png Rplot88.png Rplot89.png Rplot90.png\n",
      "    Rplot91.png Rplot92.png Rplot93.png Rplot94.png Rplot95.png\n",
      "    Rplot96.png Rplot97.png Rplot98.png Rplot99.png Rplot100.png\n",
      "    'diracDeltaOddExpansion.gif'\n",
      "Output at: diracDeltaOddExpansion.gif\n"
     ]
    },
    {
     "data": {
      "text/html": [
       "TRUE"
      ],
      "text/latex": [
       "TRUE"
      ],
      "text/markdown": [
       "TRUE"
      ],
      "text/plain": [
       "[1] TRUE"
      ]
     },
     "metadata": {},
     "output_type": "display_data"
    }
   ],
   "source": [
    "gifname <- 'diracDeltaOddExpansion.gif'\n",
    "plottitle <- 'odd terms only'\n",
    "N.vals <- N.vals-1\n",
    "mkgif()"
   ]
  },
  {
   "cell_type": "markdown",
   "metadata": {
    "hidden": true
   },
   "source": [
    "![](diracDeltaOddExpansion.gif)"
   ]
  },
  {
   "cell_type": "markdown",
   "metadata": {
    "hidden": true
   },
   "source": [
    "The even-symmetrical peaks make sense for similar reasons as the last plot. All the odd terms have even symmetry about the middle. And the value of the integral closely approximates 1, since the odd terms are the only ones that contribute to it. "
   ]
  },
  {
   "cell_type": "markdown",
   "metadata": {},
   "source": [
    "### Same thing using Legendre polynomials"
   ]
  },
  {
   "cell_type": "markdown",
   "metadata": {
    "heading_collapsed": true
   },
   "source": [
    "##### fails"
   ]
  },
  {
   "cell_type": "code",
   "execution_count": 9,
   "metadata": {
    "collapsed": true,
    "hidden": true
   },
   "outputs": [],
   "source": [
    "# legendre.helper <- function(x,n)\n",
    "# { # easy-to-write but _very_ inefficient recursive definition\n",
    "#     if (n==0) rep(1, length(x))\n",
    "#     else if (n==1) x\n",
    "#     else (2*n-1)/n*x*legendre(x,n-1) - (n-1)/n*legendre(x,n-2)\n",
    "#     # I think this function scales like O(2^n), lol...\n",
    "# }\n",
    "# legendre <- function(x,n) sapply(n, function(n) legendre.helper(x,n))\n",
    "# legendre <- function(x,n) \n",
    "#     sapply(x, function(x)\n",
    "#         2^n*sum(\n",
    "#                 sapply(0:n, function(k) x^k*choose(n,k)*choose((n+k-1)/2, n))\n",
    "#             )\n",
    "#     )\n",
    "# legendre <- function(x,n) sapply(x, function(x)\n",
    "# {\n",
    "#     ret <- NULL\n",
    "#     for (i in n)\n",
    "#     {\n",
    "#         tot <- 0\n",
    "#         for (k in 0:i)\n",
    "#             tot <- tot+( x^k*choose(n,k)*choose((n+k-1)/2, n)) \n",
    "#         ret <- c(ret, 2^n*tot)\n",
    "#     }\n",
    "#             \n",
    "# })\n",
    "\n",
    "# sumover <- function(name, ind, expr) \n",
    "# {\n",
    "#     value <- 0\n",
    "#     for (i in ind)\n",
    "#         parms <- list(ind)\n",
    "#         names(parms) <- name\n",
    "#         with(parms, expr)\n",
    "# #        value <- value+with(parms, expr)\n",
    "# #    return(value)\n",
    "# }"
   ]
  },
  {
   "cell_type": "markdown",
   "metadata": {
    "heading_collapsed": true
   },
   "source": [
    "#### plot the Legendre expansion"
   ]
  },
  {
   "cell_type": "code",
   "execution_count": 13,
   "metadata": {
    "collapsed": false,
    "hidden": true,
    "scrolled": false
   },
   "outputs": [
    {
     "name": "stderr",
     "output_type": "stream",
     "text": [
      "Warning message in par(par.old):\n",
      "\"graphical parameter \"cin\" cannot be set\"Warning message in par(par.old):\n",
      "\"graphical parameter \"cra\" cannot be set\"Warning message in par(par.old):\n",
      "\"graphical parameter \"csi\" cannot be set\"Warning message in par(par.old):\n",
      "\"graphical parameter \"cxy\" cannot be set\"Warning message in par(par.old):\n",
      "\"graphical parameter \"din\" cannot be set\"Warning message in par(par.old):\n",
      "\"graphical parameter \"page\" cannot be set\"Executing: \n",
      "convert -loop 0 -delay 5 Rplot1.png Rplot2.png Rplot3.png Rplot4.png\n",
      "    Rplot5.png Rplot6.png Rplot7.png Rplot8.png Rplot9.png Rplot10.png\n",
      "    Rplot11.png Rplot12.png Rplot13.png Rplot14.png Rplot15.png\n",
      "    Rplot16.png Rplot17.png Rplot18.png Rplot19.png Rplot20.png\n",
      "    Rplot21.png Rplot22.png Rplot23.png Rplot24.png Rplot25.png\n",
      "    Rplot26.png Rplot27.png Rplot28.png Rplot29.png Rplot30.png\n",
      "    Rplot31.png Rplot32.png Rplot33.png Rplot34.png Rplot35.png\n",
      "    Rplot36.png Rplot37.png Rplot38.png Rplot39.png Rplot40.png\n",
      "    'diracDeltaLegendreExpansion.gif'\n",
      "Output at: diracDeltaLegendreExpansion.gif\n"
     ]
    },
    {
     "data": {
      "text/plain": [
       "   user  system elapsed \n",
       " 133.47    2.27  135.60 "
      ]
     },
     "metadata": {},
     "output_type": "display_data"
    }
   ],
   "source": [
    "phi <- legendre\n",
    "gifname <- 'diracDeltaLegendreExpansion.gif'\n",
    "plottitle <- expression(paste(delta(x-0.4), 'approximation by Legendre expansion'))\n",
    "N.vals <- 1:40\n",
    "system.time(mkgif())"
   ]
  },
  {
   "cell_type": "code",
   "execution_count": 11,
   "metadata": {
    "collapsed": false,
    "hidden": true,
    "scrolled": false
   },
   "outputs": [],
   "source": [
    "# Check that legendre() works. (Try values of n.)\n",
    "# It should always be inside the range [-1,1] in both x and y, and even/odd \n",
    "# values of n should correspond to even/odd functions.\n",
    "# plot(function(x) legendre(x,7), xlim=c(-1,1))"
   ]
  },
  {
   "cell_type": "markdown",
   "metadata": {
    "hidden": true
   },
   "source": [
    "![](diracDeltaLegendreExpansion.gif)"
   ]
  },
  {
   "cell_type": "markdown",
   "metadata": {
    "hidden": true
   },
   "source": [
    "Well would you look at that, math really does work!\n",
    "\n",
    "Also, I totally see why we don't use Legendre expansions in numerical stuff. It totally sucks. It takes _way_ more time and terms to get the same quality of approximation. To be fair, the way I wrote it, the Legendre approximation has two extra loops in it, relative to the Fourier version (one for `sapply()` and one for `sumover()`). _But_, the Legendre functions also have _two_ combinatorial functions in them... So, I'm pretty sure it's those factorials that are taking so much time.\n",
    "\n",
    "That's pretty cool though, that we're completely out of the nice, familiar realm of Fourier analysis and into some other weirdo basis functions. It's nice to see these Hilbert space shenanigans demonstrated with something that _isn't Fourier_."
   ]
  }
 ],
 "metadata": {
  "kernelspec": {
   "display_name": "R",
   "language": "R",
   "name": "ir"
  },
  "language_info": {
   "codemirror_mode": "r",
   "file_extension": ".r",
   "mimetype": "text/x-r-source",
   "name": "R",
   "pygments_lexer": "r",
   "version": "3.2.5"
  },
  "varInspector": {
   "cols": {
    "lenName": 16,
    "lenType": 16,
    "lenVar": 40
   },
   "kernels_config": {
    "python": {
     "delete_cmd_postfix": "",
     "delete_cmd_prefix": "del ",
     "library": "var_list.py",
     "varRefreshCmd": "print(var_dic_list())"
    },
    "r": {
     "delete_cmd_postfix": ") ",
     "delete_cmd_prefix": "rm(",
     "library": "var_list.r",
     "varRefreshCmd": "cat(var_dic_list()) "
    }
   },
   "types_to_exclude": [
    "module",
    "function",
    "builtin_function_or_method",
    "instance",
    "_Feature"
   ],
   "window_display": false
  }
 },
 "nbformat": 4,
 "nbformat_minor": 2
}
